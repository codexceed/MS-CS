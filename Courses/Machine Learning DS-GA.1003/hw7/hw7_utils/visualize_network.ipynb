{
 "cells": [
  {
   "cell_type": "markdown",
   "metadata": {},
   "source": [
    "# Helper functions for visualizing network"
   ]
  },
  {
   "cell_type": "code",
   "execution_count": 1,
   "metadata": {},
   "outputs": [],
   "source": [
    "from graph import *"
   ]
  },
  {
   "cell_type": "code",
   "execution_count": 2,
   "metadata": {},
   "outputs": [],
   "source": [
    "def get_node_color(node, graph):\n",
    "    node_color = {\n",
    "        'parameter': 'green',\n",
    "        'inputs': 'blue',\n",
    "        'outcomes': 'blue',\n",
    "        'prediction': 'brown',\n",
    "        'objective': 'yellow'\n",
    "    }\n",
    "    if node == graph.prediction:\n",
    "        return node_color['prediction']\n",
    "    elif node == graph.objective:\n",
    "        return node_color['objective']\n",
    "    elif node in graph.inputs:\n",
    "        return node_color['inputs']\n",
    "    elif node in graph.parameters:\n",
    "        return node_color['parameter']\n",
    "    elif node in graph.outcomes:\n",
    "        return node_color['outcomes']"
   ]
  },
  {
   "cell_type": "code",
   "execution_count": 3,
   "metadata": {
    "scrolled": true
   },
   "outputs": [
    {
     "ename": "ModuleNotFoundError",
     "evalue": "No module named 'mlp_regression_sol'",
     "output_type": "error",
     "traceback": [
      "\u001b[0;31m---------------------------------------------------------------------------\u001b[0m",
      "\u001b[0;31mModuleNotFoundError\u001b[0m                       Traceback (most recent call last)",
      "Input \u001b[0;32mIn [3]\u001b[0m, in \u001b[0;36m<module>\u001b[0;34m\u001b[0m\n\u001b[0;32m----> 1\u001b[0m \u001b[38;5;28;01mfrom\u001b[39;00m \u001b[38;5;21;01mmlp_regression_sol\u001b[39;00m \u001b[38;5;28;01mimport\u001b[39;00m \u001b[38;5;241m*\u001b[39m\n",
      "\u001b[0;31mModuleNotFoundError\u001b[0m: No module named 'mlp_regression_sol'"
     ]
    }
   ],
   "source": [
    "from mlp_regression_sol import *"
   ]
  },
  {
   "cell_type": "code",
   "execution_count": null,
   "metadata": {},
   "outputs": [],
   "source": [
    "estimator = MLPRegression(num_hidden_units=10,\n",
    "                          step_size=0.001,\n",
    "                          init_param_scale=.0005, \n",
    "                          max_num_epochs=5000)"
   ]
  },
  {
   "cell_type": "code",
   "execution_count": null,
   "metadata": {},
   "outputs": [],
   "source": [
    "def get_edge_list(objective, graph):\n",
    "    \"\"\"Returns edge and vertex list for graphviz.\"\"\"\n",
    "    E = [] # Edge list\n",
    "    V = [] # Vertex list\n",
    "    T = set() # Set of temporarily marked nodes\n",
    "    P = set() # Set of permanently marked nodes\n",
    "\n",
    "    def visit(node, graph, E, V):\n",
    "        if node in P:\n",
    "            return\n",
    "        if node in T:\n",
    "            raise 'Your graph is not a DAG!'\n",
    "        T.add(node) # mark node temporarily\n",
    "        V.append((node.node_name, get_node_color(node, graph))) # Add node to edge list\n",
    "        for predecessor in node.get_predecessors():\n",
    "            E.append((node.node_name, predecessor.node_name))\n",
    "            visit(predecessor, graph, E, V)\n",
    "        P.add(node) # mark node permanently\n",
    "\n",
    "    visit(objective, graph, E, V)\n",
    "    return E,V"
   ]
  },
  {
   "cell_type": "code",
   "execution_count": null,
   "metadata": {},
   "outputs": [],
   "source": [
    "E,V = get_edge_list(estimator.objective, estimator)"
   ]
  },
  {
   "cell_type": "code",
   "execution_count": null,
   "metadata": {},
   "outputs": [],
   "source": [
    "import graphviz as gv"
   ]
  },
  {
   "cell_type": "code",
   "execution_count": null,
   "metadata": {},
   "outputs": [],
   "source": [
    "graph = gv.Digraph(format='svg')"
   ]
  },
  {
   "cell_type": "code",
   "execution_count": null,
   "metadata": {},
   "outputs": [],
   "source": [
    "[graph.node(name, color=color) for name, color in V]\n",
    "[graph.edge(name2, name1) for name1, name2 in E]"
   ]
  },
  {
   "cell_type": "code",
   "execution_count": null,
   "metadata": {},
   "outputs": [],
   "source": [
    "graph"
   ]
  },
  {
   "cell_type": "code",
   "execution_count": null,
   "metadata": {},
   "outputs": [],
   "source": []
  }
 ],
 "metadata": {
  "kernelspec": {
   "display_name": "Python 3 (ipykernel)",
   "language": "python",
   "name": "python3"
  },
  "language_info": {
   "codemirror_mode": {
    "name": "ipython",
    "version": 3
   },
   "file_extension": ".py",
   "mimetype": "text/x-python",
   "name": "python",
   "nbconvert_exporter": "python",
   "pygments_lexer": "ipython3",
   "version": "3.8.9"
  }
 },
 "nbformat": 4,
 "nbformat_minor": 2
}
