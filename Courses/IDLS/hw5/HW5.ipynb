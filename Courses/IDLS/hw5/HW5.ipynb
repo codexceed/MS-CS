{
 "cells": [
  {
   "cell_type": "markdown",
   "id": "667cc617",
   "metadata": {},
   "source": [
    "# Intro to Deep Learning Systems: Lab 5"
   ]
  },
  {
   "cell_type": "code",
   "execution_count": 2,
   "id": "b8420eb1",
   "metadata": {},
   "outputs": [],
   "source": [
    "import torch\n",
    "import torchvision.datasets as datasets"
   ]
  },
  {
   "cell_type": "markdown",
   "id": "84379f64",
   "metadata": {},
   "source": [
    "## Q1.1\n",
    "### Load Data"
   ]
  },
  {
   "cell_type": "code",
   "execution_count": 17,
   "id": "70f8d619",
   "metadata": {
    "scrolled": true
   },
   "outputs": [
    {
     "name": "stdout",
     "output_type": "stream",
     "text": [
      "Using downloaded and verified file: ./data\\VOCtrainval_06-Nov-2007.tar\n",
      "Extracting ./data\\VOCtrainval_06-Nov-2007.tar to ./data\n"
     ]
    }
   ],
   "source": [
    "dataset = datasets.VOCDetection(root=\"./data\", year=\"2007\", download=True)"
   ]
  },
  {
   "cell_type": "code",
   "execution_count": null,
   "id": "a0fde4f7",
   "metadata": {},
   "outputs": [],
   "source": []
  }
 ],
 "metadata": {
  "kernelspec": {
   "display_name": "Python 3 (ipykernel)",
   "language": "python",
   "name": "python3"
  },
  "language_info": {
   "codemirror_mode": {
    "name": "ipython",
    "version": 3
   },
   "file_extension": ".py",
   "mimetype": "text/x-python",
   "name": "python",
   "nbconvert_exporter": "python",
   "pygments_lexer": "ipython3",
   "version": "3.8.0"
  }
 },
 "nbformat": 4,
 "nbformat_minor": 5
}
