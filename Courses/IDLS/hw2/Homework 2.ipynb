{
 "cells": [
  {
   "cell_type": "markdown",
   "id": "03ea90c3",
   "metadata": {},
   "source": [
    "# Intro to Deep Learning Systems : HW 2\n",
    "## Problem 1: Perceptron"
   ]
  },
  {
   "cell_type": "code",
   "execution_count": 62,
   "id": "adcb4512",
   "metadata": {},
   "outputs": [],
   "source": [
    "# Imports\n",
    "import numpy as np\n",
    "from numpy.random import default_rng\n",
    "from datetime import datetime, timedelta\n",
    "import pandas as pd\n",
    "from matplotlib import pyplot as plt\n",
    "from tqdm import tqdm"
   ]
  },
  {
   "cell_type": "code",
   "execution_count": 4,
   "id": "e49e9ae1",
   "metadata": {},
   "outputs": [
    {
     "name": "stdout",
     "output_type": "stream",
     "text": [
      "Training Data\n"
     ]
    },
    {
     "data": {
      "text/plain": [
       "array([[ 0.34211669,  0.87744884, -1.        ],\n",
       "       [ 0.97174049,  0.4609842 ,  1.        ],\n",
       "       [ 0.96539179,  0.42459755,  1.        ],\n",
       "       [ 0.04958916,  0.40945989, -1.        ],\n",
       "       [ 0.87659326,  0.35813119,  1.        ],\n",
       "       [ 0.22563068,  0.03088381,  1.        ],\n",
       "       [ 0.56232169,  0.93533385, -1.        ],\n",
       "       [ 0.87377645,  0.26495302,  1.        ],\n",
       "       [ 0.07989474,  0.84837637, -1.        ],\n",
       "       [ 0.48963091,  0.18715742,  1.        ]])"
      ]
     },
     "execution_count": 4,
     "metadata": {},
     "output_type": "execute_result"
    }
   ],
   "source": [
    "rng = default_rng()\n",
    "# Generate training data\n",
    "def generate_data(n):\n",
    "    x = rng.uniform(low=0.0, high=1.0, size=(n, 2))\n",
    "    func = lambda x: 1 if x else -1\n",
    "    y = np.vectorize(func)(x[:, 0] > x[:, 1])\n",
    "    \n",
    "    return x, y\n",
    "X_train, y_train = generate_data(10)\n",
    "print(\"Training Data\")\n",
    "np.concatenate((X_train, y_train.reshape(-1, 1)), axis=1)"
   ]
  },
  {
   "cell_type": "code",
   "execution_count": 3,
   "id": "b20538a5",
   "metadata": {},
   "outputs": [],
   "source": [
    "def train_perceptron(X_train, y_train, epoch_lim=1000, hinge_loss=False):\n",
    "    \"\"\"Train weights for given data via perceptron algorithm.\n",
    "\n",
    "    Args:\n",
    "        X_train: Feature matrix\n",
    "        y_train: Class labels\n",
    "        epoch_lim: Upper epoch limit to cut-off training\n",
    "        hinge_loss: Specify whether to use hinge loss\n",
    "\n",
    "    Returns:\n",
    "        Trained weights\n",
    "    \"\"\"\n",
    "    w = np.zeros(X_train.shape[1])\n",
    "    epoch, convergence = 0, False\n",
    "    threshold = 1 if hinge_loss else 0\n",
    "\n",
    "    while not convergence and epoch < epoch_lim:\n",
    "        convergence = True\n",
    "        for i in range(len(X_train)):\n",
    "            x = X_train[i]\n",
    "            y = y_train[i]\n",
    "\n",
    "            margin = y * np.dot(w, x)\n",
    "            if margin <= threshold:\n",
    "                convergence = False\n",
    "                w += y * x\n",
    "\n",
    "        epoch += 1\n",
    "    \n",
    "    if not convergence:\n",
    "        print(\"Convergence not achieved. Too many epochs.\")\n",
    "    return w\n",
    "\n",
    "def predict_perceptron(x, weights):\n",
    "    \"\"\"Predict values using perceptron weights\n",
    "\n",
    "    Args:\n",
    "        x: Input features\n",
    "        weights: Perceptron weights\n",
    "\n",
    "    Return:\n",
    "        Output vector\n",
    "    \"\"\"\n",
    "\n",
    "    return np.sign(np.dot(x, weights))"
   ]
  },
  {
   "cell_type": "code",
   "execution_count": 4,
   "id": "c232428b",
   "metadata": {},
   "outputs": [
    {
     "name": "stdout",
     "output_type": "stream",
     "text": [
      "Convergence not achieved. Too many epochs.\n",
      "Mean accuracy with perceptron loss: 0.9911999999999999\n",
      "Mean accuracy with hinge loss: 0.99624\n"
     ]
    }
   ],
   "source": [
    "# Training\n",
    "w_perceptron = train_perceptron(X_train, y_train)\n",
    "w_hinge = train_perceptron(X_train, y_train, hinge_loss=True)\n",
    "\n",
    "# Test\n",
    "perceptron_accuracy, hinge_accuracy = [], []\n",
    "for i in range(10):\n",
    "    X_test, y_test = generate_data(5000)\n",
    "    pred_perceptron = predict_perceptron(X_test, w_perceptron)\n",
    "    pred_hinge = predict_perceptron(X_test, w_hinge)\n",
    "    \n",
    "    perceptron_accuracy.append(sum(pred_perceptron == y_test) / pred_perceptron.shape[0])\n",
    "    hinge_accuracy.append(sum(pred_hinge == y_test) / pred_hinge.shape[0])\n",
    "\n",
    "print(f\"Mean accuracy with perceptron loss: {np.mean(perceptron_accuracy)}\")\n",
    "print(f\"Mean accuracy with hinge loss: {np.mean(hinge_accuracy)}\")"
   ]
  },
  {
   "cell_type": "markdown",
   "id": "34e7087c",
   "metadata": {},
   "source": [
    "## Problem 2: Weight Initialization, Dead Neurons, Leaky ReLU"
   ]
  },
  {
   "cell_type": "code",
   "execution_count": 5,
   "id": "6bddd759",
   "metadata": {},
   "outputs": [],
   "source": [
    "# from deepreplay.callbacks import ReplayData\n",
    "# from deepreplay.replay import Replay\n",
    "# from deepreplay.plot import compose_plots\n",
    "# from keras.initializers import normal\n",
    "# from q2.model_builder import *"
   ]
  },
  {
   "cell_type": "code",
   "execution_count": 6,
   "id": "8c959c38",
   "metadata": {},
   "outputs": [],
   "source": [
    "# from deepreplay.datasets.ball import load_data\n",
    "\n",
    "# X, y = load_data(n_dims=10)"
   ]
  },
  {
   "cell_type": "code",
   "execution_count": 7,
   "id": "2b4133d1",
   "metadata": {},
   "outputs": [],
   "source": [
    "# filename = 'part2_weight_initializers.h5'\n",
    "# group_name = 'sigmoid_stdev_0.01'\n",
    "\n",
    "# # Uses normal initializer\n",
    "# initializer = normal(mean=0, stddev=0.01, seed=13)\n",
    "\n",
    "# # Builds BLOCK model\n",
    "# model = build_model(n_layers=5, input_dim=10, units=100, \n",
    "#                     activation='sigmoid', initializer=initializer)\n",
    "\n",
    "# # Since we only need initial weights, we don't even need to train the model! \n",
    "# # We still use the ReplayData callback, but we can pass the model as argument instead\n",
    "# replaydata = ReplayData(X, y, filename=filename, group_name=group_name, model=model)\n",
    "\n",
    "# # Now we feed the data to the actual Replay object\n",
    "# # so we can build the visualizations\n",
    "# replay = Replay(replay_filename=filename, group_name=group_name)\n",
    "\n",
    "# # Using subplot2grid to assemble a complex figure...\n",
    "# fig = plt.figure(figsize=(12, 6))\n",
    "# ax_zvalues = plt.subplot2grid((2, 2), (0, 0))\n",
    "# ax_weights = plt.subplot2grid((2, 2), (0, 1))\n",
    "# ax_activations = plt.subplot2grid((2, 2), (1, 0))\n",
    "# ax_gradients = plt.subplot2grid((2, 2), (1, 1))\n",
    "\n",
    "# wv = replay.build_weights(ax_weights)\n",
    "# gv = replay.build_gradients(ax_gradients)\n",
    "# # Z-values\n",
    "# zv = replay.build_outputs(ax_zvalues, before_activation=True, \n",
    "#                           exclude_outputs=True, include_inputs=False)\n",
    "# # Activations\n",
    "# av = replay.build_outputs(ax_activations, exclude_outputs=True, include_inputs=False)\n",
    "\n",
    "# # Finally, we use compose_plots to update all\n",
    "# # visualizations at once\n",
    "# fig = compose_plots([zv, wv, av, gv], \n",
    "#                     epoch=0, \n",
    "#                     title=r'Activation: sigmoid - Initializer: Normal $\\sigma = 0.01$')"
   ]
  },
  {
   "cell_type": "markdown",
   "id": "1ee4092a",
   "metadata": {},
   "source": [
    "## Problem 3: Batch Norm, Dropout, MNIST"
   ]
  },
  {
   "cell_type": "markdown",
   "id": "6072b8bb",
   "metadata": {},
   "source": [
    "### 1.\n",
    "#### Co-Adaptation\n",
    "In Neural network, co-adaptation means that some neurons are highly dependent on others. Conseuquently, these co-dependent units seem to output correctly only under a very narrow and specific set of circumstances (inputs and features), causing them to frequently fire erroneously under general conditions. Co-adapted neurons have a high tendency for inaccurate results since even a single incorrect input to a unit can trigger a chain of incorrect outputs in all of its co-adapted peers. This behaviour is akin to overfitting, where the model performs great only on the training data (fixed specific circumstance), but fails to generalize and therefore performs poorly on validation/test data.\n",
    "\n",
    "#### Internal Covariate Shift\n",
    "We define Internal Covariate Shift as the change in the distribution of network activations due to the change in network parameters during training. It's well known that a neural network trains faster the more consistent the distribution of the features are in any given layer. A shift in the distribution causes overhead due to the excess iterations required for the network to adjust to the new distributions. We can achieve convergence faster if we employ methods to counter internal covariate shift as it helps avoid this overhead.\n",
    "\n"
   ]
  },
  {
   "cell_type": "markdown",
   "id": "29e422fb",
   "metadata": {},
   "source": [
    "### LeNet 5"
   ]
  },
  {
   "cell_type": "code",
   "execution_count": 2,
   "id": "f829b636",
   "metadata": {},
   "outputs": [],
   "source": [
    "# Load in relevant libraries, and alias where appropriate\n",
    "import torch\n",
    "import torch.nn as nn\n",
    "from torch.utils.data import DataLoader, TensorDataset, random_split\n",
    "import torchvision\n",
    "import torchvision.transforms as transforms"
   ]
  },
  {
   "cell_type": "code",
   "execution_count": 16,
   "id": "43cce44a",
   "metadata": {},
   "outputs": [
    {
     "name": "stdout",
     "output_type": "stream",
     "text": [
      "cpu\n"
     ]
    }
   ],
   "source": [
    "# Define relevant variables for the ML task\n",
    "batch_size = 64\n",
    "num_classes = 10\n",
    "learning_rate = 0.001\n",
    "num_epochs = 10\n",
    "\n",
    "# Device will determine whether to run the training on GPU or CPU.\n",
    "device = torch.device('cpu')\n",
    "print(device)"
   ]
  },
  {
   "cell_type": "code",
   "execution_count": 17,
   "id": "55a35d5b",
   "metadata": {},
   "outputs": [],
   "source": [
    "#Loading the dataset and preprocessing\n",
    "train_dataset = torchvision.datasets.MNIST(root = './data',\n",
    "                                           train = True,\n",
    "                                           transform = transforms.Compose([\n",
    "                                                  transforms.Resize((32,32)),\n",
    "                                                  transforms.ToTensor(),\n",
    "                                                  transforms.Normalize(mean = (0.1307,), std = (0.3081,))]),\n",
    "                                           download = True)\n",
    "\n",
    "\n",
    "test_dataset = torchvision.datasets.MNIST(root = './data',\n",
    "                                          train = False,\n",
    "                                          transform = transforms.Compose([\n",
    "                                                  transforms.Resize((32,32)),\n",
    "                                                  transforms.ToTensor()]),\n",
    "                                          download=True)\n",
    "\n",
    "\n",
    "train_loader = DataLoader(dataset = train_dataset,\n",
    "                                           batch_size = batch_size,\n",
    "                                           shuffle = True)\n",
    "\n",
    "\n",
    "test_loader = DataLoader(dataset = test_dataset,\n",
    "                                           batch_size = batch_size,\n",
    "                                           shuffle = True)"
   ]
  },
  {
   "cell_type": "code",
   "execution_count": 18,
   "id": "7600d0af",
   "metadata": {},
   "outputs": [],
   "source": [
    "# Defining the convolutional neural network\n",
    "def get_accuracy(pred_model, loader):\n",
    "    with torch.no_grad():\n",
    "        correct = 0\n",
    "        total = 0\n",
    "        for images, labels in loader:\n",
    "#             images = images.to(device)\n",
    "#             labels = labels.to(device)\n",
    "            pred_model = pred_model.to(\"cpu\")\n",
    "            outputs = pred_model(images)\n",
    "            _, predicted = torch.max(outputs.data, 1)\n",
    "            total += labels.size(0)\n",
    "            correct += (predicted == labels).sum().item()\n",
    "        \n",
    "        pred_model.to(device)\n",
    "        return 100 * correct / total\n",
    "    \n",
    "\n",
    "def get_mean_loss(pred_model, loader):\n",
    "    tot_loss = 0\n",
    "    for images, labels in loader:  \n",
    "        images = images.to(device)\n",
    "        labels = labels.to(device)\n",
    "        \n",
    "        #Forward pass\n",
    "        outputs = pred_model(images)\n",
    "        loss = cost(outputs, labels)\n",
    "        tot_loss += loss\n",
    "    \n",
    "    return tot_loss / len(loader.dataset)\n",
    "        \n",
    "class LeNet5(nn.Module):\n",
    "    def __init__(self, num_classes, input_tfs = [], hidden_tfs = []):\n",
    "        super(LeNet5, self).__init__()\n",
    "        \n",
    "        # Input Layer\n",
    "        self.conv1 =nn.Conv2d(1, 6, kernel_size=5, stride=1, padding=0)\n",
    "        input_tfs = [nn.Identity()] + input_tfs\n",
    "        self.input_tfs = nn.Sequential(*input_tfs)\n",
    "        self.layer1 = nn.Sequential(nn.ReLU(), nn.MaxPool2d(kernel_size = 2, stride = 2))\n",
    "        \n",
    "        # Hidden Layer\n",
    "        self.conv2 = nn.Conv2d(6, 16, kernel_size=5, stride=1, padding=0)\n",
    "        hidden_tfs = [nn.Identity()] + hidden_tfs\n",
    "        self.hidden_tfs = nn.Sequential(*hidden_tfs)\n",
    "        self.layer2 = nn.Sequential(nn.ReLU(), nn.MaxPool2d(kernel_size = 2, stride = 2))\n",
    "        \n",
    "        self.fc = nn.Linear(400, 120)\n",
    "        self.relu = nn.ReLU()\n",
    "        self.fc1 = nn.Linear(120, 84)\n",
    "        self.relu1 = nn.ReLU()\n",
    "        self.fc2 = nn.Linear(84, num_classes)\n",
    "        \n",
    "    def forward(self, x):\n",
    "        out = self.conv1(x)\n",
    "        out = self.input_tfs(out)\n",
    "        out = self.layer1(out)\n",
    "        out = self.conv2(out)\n",
    "        out = self.hidden_tfs(out)\n",
    "        out = self.layer2(out)\n",
    "        out = out.reshape(out.size(0), -1)\n",
    "        out = self.fc(out)\n",
    "        out = self.relu(out)\n",
    "        out = self.fc1(out)\n",
    "        out = self.relu1(out)\n",
    "        out = self.fc2(out)\n",
    "        return out"
   ]
  },
  {
   "cell_type": "markdown",
   "id": "8c956c94",
   "metadata": {},
   "source": [
    "### 2. Standard Norm on Input Layer, Batch Norm on Hidden Layer"
   ]
  },
  {
   "cell_type": "code",
   "execution_count": 19,
   "id": "9a4f4f77",
   "metadata": {},
   "outputs": [],
   "source": [
    "model = LeNet5(num_classes, hidden_tfs = [nn.BatchNorm2d(16)]).to(device)\n",
    "\n",
    "#Setting the loss function\n",
    "cost = nn.CrossEntropyLoss()\n",
    "\n",
    "#Setting the optimizer with the model parameters and learning rate\n",
    "optimizer = torch.optim.Adam(model.parameters(), lr=learning_rate)\n",
    "\n",
    "#this is defined to print how many steps are remaining when training\n",
    "total_step = len(train_loader)"
   ]
  },
  {
   "cell_type": "code",
   "execution_count": 20,
   "id": "4d1d54bb",
   "metadata": {
    "scrolled": true
   },
   "outputs": [
    {
     "name": "stdout",
     "output_type": "stream",
     "text": [
      "Epoch [1/10], Step [400/938], Loss: 0.0211\n",
      "Epoch [1/10], Step [800/938], Loss: 0.0345\n",
      "Epoch [2/10], Step [400/938], Loss: 0.0153\n",
      "Epoch [2/10], Step [800/938], Loss: 0.0164\n",
      "Epoch [3/10], Step [400/938], Loss: 0.0945\n",
      "Epoch [3/10], Step [800/938], Loss: 0.0070\n",
      "Epoch [4/10], Step [400/938], Loss: 0.1194\n",
      "Epoch [4/10], Step [800/938], Loss: 0.0186\n",
      "Epoch [5/10], Step [400/938], Loss: 0.0033\n",
      "Epoch [5/10], Step [800/938], Loss: 0.0149\n",
      "Epoch [6/10], Step [400/938], Loss: 0.0151\n",
      "Epoch [6/10], Step [800/938], Loss: 0.0203\n",
      "Epoch [7/10], Step [400/938], Loss: 0.0168\n",
      "Epoch [7/10], Step [800/938], Loss: 0.1242\n",
      "Epoch [8/10], Step [400/938], Loss: 0.0377\n",
      "Epoch [8/10], Step [800/938], Loss: 0.0013\n",
      "Epoch [9/10], Step [400/938], Loss: 0.0120\n",
      "Epoch [9/10], Step [800/938], Loss: 0.0406\n",
      "Epoch [10/10], Step [400/938], Loss: 0.0027\n",
      "Epoch [10/10], Step [800/938], Loss: 0.0186\n"
     ]
    }
   ],
   "source": [
    "total_step = len(train_loader)\n",
    "std_tr_losses, std_ts_losses, std_tr_accuracy, std_ts_accuracy = [], [], [], []\n",
    "for epoch in range(num_epochs):\n",
    "    epoch_loss = 0\n",
    "    for i, (images, labels) in enumerate(train_loader):  \n",
    "        images = images.to(device)\n",
    "        labels = labels.to(device)\n",
    "        \n",
    "        #Forward pass\n",
    "        outputs = model(images)\n",
    "        loss = cost(outputs, labels)\n",
    "        epoch_loss += loss * images.size(0)\n",
    "        \t\n",
    "        # Backward and optimize\n",
    "        optimizer.zero_grad()\n",
    "        loss.backward()\n",
    "        optimizer.step()\n",
    "        \t\t\n",
    "        if (i+1) % 400 == 0:\n",
    "            print ('Epoch [{}/{}], Step [{}/{}], Loss: {:.4f}' \n",
    "        \t\t           .format(epoch+1, num_epochs, i+1, total_step, loss.item()))\n",
    "    \n",
    "    std_tr_accuracy.append(get_accuracy(model, train_loader))\n",
    "    std_ts_accuracy.append(get_accuracy(model, test_loader))\n",
    "    std_tr_losses.append(epoch_loss / len(train_loader.dataset))\n",
    "    std_ts_losses.append(get_mean_loss(model, test_loader))"
   ]
  },
  {
   "cell_type": "code",
   "execution_count": 23,
   "id": "fc7d7b50",
   "metadata": {},
   "outputs": [
    {
     "name": "stdout",
     "output_type": "stream",
     "text": [
      "Accuracy of the network on train images: 99.775 %\n",
      "Accuracy of the network on test images: 98.6 %\n"
     ]
    }
   ],
   "source": [
    "# Test the model\n",
    "# In test phase, we don't need to compute gradients (for memory efficiency)\n",
    "print('Accuracy of the network on train images: {} %'.format(get_accuracy(model, train_loader)))\n",
    "\n",
    "print('Accuracy of the network on test images: {} %'.format(get_accuracy(model, test_loader)))\n",
    "\t "
   ]
  },
  {
   "cell_type": "markdown",
   "id": "720c30b6",
   "metadata": {},
   "source": [
    "#### Input Layer Standard Normalized Parameters"
   ]
  },
  {
   "cell_type": "code",
   "execution_count": 24,
   "id": "66d4e538",
   "metadata": {},
   "outputs": [
    {
     "name": "stdout",
     "output_type": "stream",
     "text": [
      "Weights: tensor([[[[ 2.0148e-01, -7.3585e-03,  5.8398e-02, -2.0251e-01,  8.2223e-02],\n",
      "          [ 1.1570e-01,  7.6834e-02, -1.5450e-01, -1.9265e-01, -1.0612e-01],\n",
      "          [ 1.5244e-01, -1.9575e-02, -3.8467e-01, -1.3427e-01,  2.6949e-01],\n",
      "          [ 1.2367e-01, -1.5880e-01, -2.4468e-01, -2.7817e-02,  1.1303e-01],\n",
      "          [-1.2770e-01, -1.0910e-02, -2.3428e-01,  6.9124e-02,  1.3160e-01]]],\n",
      "\n",
      "\n",
      "        [[[ 8.1516e-02,  3.4909e-02,  6.5704e-02,  5.8687e-02,  1.2924e-01],\n",
      "          [-5.8671e-02, -1.4949e-01, -1.9976e-01,  8.2567e-02, -6.3626e-02],\n",
      "          [ 1.8202e-01,  1.9853e-01, -2.2835e-01, -2.9550e-01, -1.7233e-01],\n",
      "          [-3.5837e-02,  1.3635e-01,  1.5711e-01, -1.6940e-01, -1.4065e-01],\n",
      "          [-1.4296e-01,  2.3171e-01,  2.2644e-01,  1.1162e-01,  4.4377e-02]]],\n",
      "\n",
      "\n",
      "        [[[ 1.8385e-01,  1.0795e-01, -1.0316e-01,  3.5162e-04, -1.5337e-01],\n",
      "          [-1.4807e-01, -1.4110e-01, -1.5816e-01, -3.0605e-02,  1.5162e-01],\n",
      "          [-2.8757e-01, -1.4395e-01,  3.5887e-02,  1.6529e-01, -3.4446e-02],\n",
      "          [-3.8380e-02,  1.9408e-01,  1.8376e-01, -4.1266e-02,  1.0796e-01],\n",
      "          [ 1.3499e-01,  2.3824e-01, -8.6718e-02, -4.5026e-03, -3.5274e-02]]],\n",
      "\n",
      "\n",
      "        [[[ 9.0026e-02,  1.1206e-01, -3.0755e-02,  3.6027e-02,  6.5555e-02],\n",
      "          [-7.2740e-03,  9.4208e-02,  5.1233e-02,  1.4886e-01,  1.7252e-01],\n",
      "          [-2.7414e-02,  2.0246e-01,  1.9994e-01, -8.9003e-02, -2.3596e-01],\n",
      "          [-3.8479e-01, -2.5137e-01, -2.9187e-01, -3.0131e-01, -8.9579e-02],\n",
      "          [-5.4196e-02, -2.1691e-01, -9.7945e-02,  1.7103e-02,  3.4517e-02]]],\n",
      "\n",
      "\n",
      "        [[[-7.9453e-02, -2.4518e-01, -1.4166e-01, -2.1144e-01, -6.3098e-02],\n",
      "          [ 2.1650e-01,  2.6384e-01, -2.9337e-02, -1.5293e-02,  1.6519e-01],\n",
      "          [ 1.7888e-01, -1.2705e-02, -3.4797e-02,  1.5610e-01, -1.3906e-01],\n",
      "          [-2.2840e-01, -1.2473e-02, -5.3974e-02,  1.1620e-01,  1.2642e-01],\n",
      "          [-1.7721e-01, -9.4273e-02,  2.5025e-01,  7.4449e-02, -1.3493e-01]]],\n",
      "\n",
      "\n",
      "        [[[-3.2596e-02,  2.6884e-01,  6.3543e-02, -1.3680e-01,  1.9499e-02],\n",
      "          [ 1.0539e-01,  2.6580e-02, -1.7036e-01, -2.6073e-01,  1.5212e-01],\n",
      "          [ 1.1850e-01, -2.2998e-01, -2.2982e-01,  1.7721e-01,  1.1880e-01],\n",
      "          [ 5.8537e-02,  5.3558e-02,  2.0668e-01,  1.3956e-01,  2.0634e-02],\n",
      "          [ 5.1660e-02,  1.1912e-02,  5.4677e-02, -2.5432e-01, -8.9436e-02]]]])\n",
      "Bias: tensor([-0.0005, -0.2713, -0.1976,  0.0038, -0.0499, -0.2786])\n"
     ]
    }
   ],
   "source": [
    "print(f\"Weights: {model.state_dict()['conv1.weight']}\")\n",
    "print(f\"Bias: {model.state_dict()['conv1.bias']}\")"
   ]
  },
  {
   "cell_type": "markdown",
   "id": "c756289f",
   "metadata": {},
   "source": [
    "#### Hidden Later Batch Normalized Parameters"
   ]
  },
  {
   "cell_type": "code",
   "execution_count": 25,
   "id": "278da706",
   "metadata": {},
   "outputs": [
    {
     "name": "stdout",
     "output_type": "stream",
     "text": [
      "Weights: tensor([1.0312, 1.0669, 0.9772, 0.9933, 1.0543, 1.0002, 1.2115, 1.1934, 1.0527,\n",
      "        1.1627, 1.0513, 1.0833, 0.9721, 1.1460, 1.1770, 1.2084])\n",
      "Bias: tensor([-0.3647, -0.1501, -0.4467, -0.3547, -0.2325, -0.3418, -0.3203, -0.2756,\n",
      "        -0.3812, -0.3900, -0.2446, -0.2167, -0.3848, -0.2317, -0.3255, -0.3228])\n"
     ]
    }
   ],
   "source": [
    "print(f\"Weights: {model.state_dict()['hidden_tfs.1.weight']}\")\n",
    "print(f\"Bias: {model.state_dict()['hidden_tfs.1.bias']}\")"
   ]
  },
  {
   "cell_type": "markdown",
   "id": "76ccc764",
   "metadata": {},
   "source": [
    "### 3. Batch Normalization on Input and Hidden Layer"
   ]
  },
  {
   "cell_type": "code",
   "execution_count": 26,
   "id": "b7577953",
   "metadata": {},
   "outputs": [],
   "source": [
    "model = LeNet5(num_classes, input_tfs = [nn.BatchNorm2d(6)], hidden_tfs = [nn.BatchNorm2d(16)]).to(device)\n",
    "\n",
    "#Setting the loss function\n",
    "cost = nn.CrossEntropyLoss()\n",
    "\n",
    "#Setting the optimizer with the model parameters and learning rate\n",
    "optimizer = torch.optim.Adam(model.parameters(), lr=learning_rate)\n",
    "\n",
    "#this is defined to print how many steps are remaining when training\n",
    "total_step = len(train_loader)"
   ]
  },
  {
   "cell_type": "code",
   "execution_count": 27,
   "id": "33660fb2",
   "metadata": {},
   "outputs": [
    {
     "name": "stdout",
     "output_type": "stream",
     "text": [
      "Epoch [1/10], Step [400/938], Loss: 0.0989\n",
      "Epoch [1/10], Step [800/938], Loss: 0.0653\n",
      "Epoch [2/10], Step [400/938], Loss: 0.0080\n",
      "Epoch [2/10], Step [800/938], Loss: 0.0074\n",
      "Epoch [3/10], Step [400/938], Loss: 0.0180\n",
      "Epoch [3/10], Step [800/938], Loss: 0.0099\n",
      "Epoch [4/10], Step [400/938], Loss: 0.0045\n",
      "Epoch [4/10], Step [800/938], Loss: 0.0142\n",
      "Epoch [5/10], Step [400/938], Loss: 0.0103\n",
      "Epoch [5/10], Step [800/938], Loss: 0.0346\n",
      "Epoch [6/10], Step [400/938], Loss: 0.0022\n",
      "Epoch [6/10], Step [800/938], Loss: 0.0209\n",
      "Epoch [7/10], Step [400/938], Loss: 0.0367\n",
      "Epoch [7/10], Step [800/938], Loss: 0.0217\n",
      "Epoch [8/10], Step [400/938], Loss: 0.0044\n",
      "Epoch [8/10], Step [800/938], Loss: 0.0124\n",
      "Epoch [9/10], Step [400/938], Loss: 0.0003\n",
      "Epoch [9/10], Step [800/938], Loss: 0.0240\n",
      "Epoch [10/10], Step [400/938], Loss: 0.0030\n",
      "Epoch [10/10], Step [800/938], Loss: 0.0014\n"
     ]
    }
   ],
   "source": [
    "total_step = len(train_loader)\n",
    "bn_tr_losses, bn_ts_losses, bn_tr_accuracy, bn_ts_accuracy = [], [], [], []\n",
    "for epoch in range(num_epochs):\n",
    "    epoch_loss = 0\n",
    "    for i, (images, labels) in enumerate(train_loader):  \n",
    "        images = images.to(device)\n",
    "        labels = labels.to(device)\n",
    "        \n",
    "        #Forward pass\n",
    "        outputs = model(images)\n",
    "        loss = cost(outputs, labels)\n",
    "        epoch_loss += loss * images.size(0)\n",
    "        \t\n",
    "        # Backward and optimize\n",
    "        optimizer.zero_grad()\n",
    "        loss.backward()\n",
    "        optimizer.step()\n",
    "        \t\t\n",
    "        if (i+1) % 400 == 0:\n",
    "            print ('Epoch [{}/{}], Step [{}/{}], Loss: {:.4f}' \n",
    "        \t\t           .format(epoch+1, num_epochs, i+1, total_step, loss.item()))\n",
    "    \n",
    "    bn_tr_accuracy.append(get_accuracy(model, train_loader))\n",
    "    bn_ts_accuracy.append(get_accuracy(model, test_loader))\n",
    "    bn_tr_losses.append(epoch_loss / len(train_loader.dataset))\n",
    "    bn_ts_losses.append(get_mean_loss(model, test_loader))"
   ]
  },
  {
   "cell_type": "code",
   "execution_count": 30,
   "id": "5b6ac9f2",
   "metadata": {},
   "outputs": [
    {
     "name": "stdout",
     "output_type": "stream",
     "text": [
      "Accuracy of the network on train images: 99.55166666666666 %\n",
      "Accuracy of the network on test images: 99.0 %\n"
     ]
    }
   ],
   "source": [
    "# Test the model\n",
    "# In test phase, we don't need to compute gradients (for memory efficiency)\n",
    "print('Accuracy of the network on train images: {} %'.format(get_accuracy(model, train_loader)))\n",
    "\n",
    "print('Accuracy of the network on test images: {} %'.format(get_accuracy(model, test_loader)))"
   ]
  },
  {
   "cell_type": "code",
   "execution_count": 10,
   "id": "33f988db",
   "metadata": {},
   "outputs": [
    {
     "ename": "NameError",
     "evalue": "name 'model' is not defined",
     "output_type": "error",
     "traceback": [
      "\u001b[1;31m---------------------------------------------------------------------------\u001b[0m",
      "\u001b[1;31mNameError\u001b[0m                                 Traceback (most recent call last)",
      "Input \u001b[1;32mIn [10]\u001b[0m, in \u001b[0;36m<cell line: 4>\u001b[1;34m()\u001b[0m\n\u001b[0;32m      1\u001b[0m \u001b[38;5;28;01mimport\u001b[39;00m \u001b[38;5;21;01mmatplotlib\u001b[39;00m\u001b[38;5;21;01m.\u001b[39;00m\u001b[38;5;21;01mpyplot\u001b[39;00m \u001b[38;5;28;01mas\u001b[39;00m \u001b[38;5;21;01mplt\u001b[39;00m\n\u001b[0;32m      2\u001b[0m \u001b[38;5;28;01mimport\u001b[39;00m \u001b[38;5;21;01mseaborn\u001b[39;00m \u001b[38;5;28;01mas\u001b[39;00m \u001b[38;5;21;01msns\u001b[39;00m\n\u001b[1;32m----> 4\u001b[0m w_input, w_hidden \u001b[38;5;241m=\u001b[39m \u001b[43mmodel\u001b[49m\u001b[38;5;241m.\u001b[39mstate_dict()[\u001b[38;5;124m\"\u001b[39m\u001b[38;5;124minput_tfs.1.weight\u001b[39m\u001b[38;5;124m\"\u001b[39m], model\u001b[38;5;241m.\u001b[39mstate_dict()[\u001b[38;5;124m\"\u001b[39m\u001b[38;5;124mhidden_tfs.1.weight\u001b[39m\u001b[38;5;124m\"\u001b[39m]\n\u001b[0;32m      5\u001b[0m data \u001b[38;5;241m=\u001b[39m {\u001b[38;5;124m\"\u001b[39m\u001b[38;5;124mInput Layer\u001b[39m\u001b[38;5;124m\"\u001b[39m: w_input\u001b[38;5;241m.\u001b[39mtolist(), \u001b[38;5;124m\"\u001b[39m\u001b[38;5;124mHidden Layer\u001b[39m\u001b[38;5;124m\"\u001b[39m: w_hidden\u001b[38;5;241m.\u001b[39mtolist()}\n",
      "\u001b[1;31mNameError\u001b[0m: name 'model' is not defined"
     ]
    }
   ],
   "source": [
    "import matplotlib.pyplot as plt\n",
    "import seaborn as sns\n",
    "\n",
    "w_input, w_hidden = model.state_dict()[\"input_tfs.1.weight\"], model.state_dict()[\"hidden_tfs.1.weight\"]\n",
    "data = {\"Input Layer\": w_input.tolist(), \"Hidden Layer\": w_hidden.tolist()}"
   ]
  },
  {
   "cell_type": "code",
   "execution_count": 32,
   "id": "1a10d971",
   "metadata": {},
   "outputs": [
    {
     "name": "stdout",
     "output_type": "stream",
     "text": [
      "Input Layer Weights\n"
     ]
    },
    {
     "data": {
      "image/png": "[encoded data removed]",
      "text/plain": [
       "<Figure size 432x288 with 1 Axes>"
      ]
     },
     "metadata": {
      "needs_background": "light"
     },
     "output_type": "display_data"
    }
   ],
   "source": [
    "print(\"Input Layer Weights\")\n",
    "sns.violinplot(x=\"Input Layer\", data=data)\n",
    "plt.show()"
   ]
  },
  {
   "cell_type": "code",
   "execution_count": 33,
   "id": "6f1cc8a3",
   "metadata": {},
   "outputs": [
    {
     "name": "stdout",
     "output_type": "stream",
     "text": [
      "Hidden Layer Weights\n"
     ]
    },
    {
     "data": {
      "image/png": "[encoded data removed]",
      "text/plain": [
       "<Figure size 432x288 with 1 Axes>"
      ]
     },
     "metadata": {
      "needs_background": "light"
     },
     "output_type": "display_data"
    }
   ],
   "source": [
    "print(\"Hidden Layer Weights\")\n",
    "sns.violinplot(x=\"Hidden Layer\", data=data)\n",
    "plt.show()"
   ]
  },
  {
   "cell_type": "code",
   "execution_count": null,
   "id": "7e6a0924",
   "metadata": {},
   "outputs": [],
   "source": [
    "# Off load tensor\n",
    "std_tr_losses = [x.cpu().detach() for x in std_tr_losses]\n",
    "std_ts_losses = [x.cpu().detach() for x in std_ts_losses]\n",
    "bn_tr_losses = [x.cpu().detach() for x in bn_tr_losses]\n",
    "bn_ts_losses = [x.cpu().detach() for x in bn_ts_losses]"
   ]
  },
  {
   "cell_type": "code",
   "execution_count": 45,
   "id": "ca8f4f4e",
   "metadata": {
    "scrolled": true
   },
   "outputs": [
    {
     "name": "stderr",
     "output_type": "stream",
     "text": [
      "C:\\Users\\perfe\\AppData\\Local\\Temp\\ipykernel_21844\\3805624258.py:16: UserWarning: Matplotlib is currently using module://matplotlib_inline.backend_inline, which is a non-GUI backend, so cannot show the figure.\n",
      "  fig.show()\n"
     ]
    },
    {
     "data": {
      "image/png": "[encoded data removed]",
      "text/plain": [
       "<Figure size 864x360 with 2 Axes>"
      ]
     },
     "metadata": {
      "needs_background": "light"
     },
     "output_type": "display_data"
    }
   ],
   "source": [
    "fig, axes = plt.subplots(1, 2, figsize=(12,5))\n",
    "\n",
    "axes[0].plot([i + 1 for i in range(num_epochs)], std_tr_losses, color=\"red\", label=\"Std Norm Training\", scaley=True, scalex=True)\n",
    "axes[0].plot([i + 1 for i in range(num_epochs)], bn_tr_losses, color=\"blue\", label=\"Batch Norm Training\", scaley=True, scalex=True)\n",
    "axes[0].plot([i + 1 for i in range(num_epochs)], std_ts_losses, \"--\", color=\"red\", label=\"Std Norm Test\", scaley=True, scalex=True)\n",
    "axes[0].plot([i + 1 for i in range(num_epochs)], bn_ts_losses, \"--\", color=\"blue\", label=\"Batch Norm Test\", scaley=True, scalex=True)\n",
    "axes[0].legend(loc=\"best\")\n",
    "axes[0].set_title(\"Loss vs Epochs\")\n",
    "\n",
    "axes[1].plot([i + 1 for i in range(num_epochs)], std_tr_accuracy, color=\"red\", label=\"Std Norm Training\")\n",
    "axes[1].plot([i + 1 for i in range(num_epochs)], bn_tr_accuracy, color=\"blue\", label=\"Batch Norm Training\")\n",
    "axes[1].plot([i + 1 for i in range(num_epochs)], std_ts_accuracy, \"--\", color=\"red\", label=\"Std Norm Test\")\n",
    "axes[1].plot([i + 1 for i in range(num_epochs)], bn_ts_accuracy, \"--\", color=\"blue\", label=\"Batch Norm Test\")\n",
    "axes[1].legend(loc=\"best\")\n",
    "axes[1].set_title(\"Accuracy vs Epochs\")\n",
    "fig.show()"
   ]
  },
  {
   "cell_type": "markdown",
   "id": "11ffa62b",
   "metadata": {},
   "source": [
    "## Problem 4 - Universal Approximators: Depth Vs. Width"
   ]
  },
  {
   "cell_type": "code",
   "execution_count": 125,
   "id": "d22cc1d3",
   "metadata": {},
   "outputs": [
    {
     "name": "stdout",
     "output_type": "stream",
     "text": [
      "Device being used: cuda\n"
     ]
    }
   ],
   "source": [
    "# Setup\n",
    "device = torch.device('cuda' if torch.cuda.is_available() else 'cpu')\n",
    "print(f\"Device being used: {device}\")\n",
    "\n",
    "# Utility Functions\n",
    "def eggholder(x1, x2):\n",
    "    return -(x2+47)*torch.sin(torch.sqrt(torch.abs((x1/2)+(x2+47)))) - x1*torch.sin(torch.sqrt(torch.abs(x1 - (x2 + 47))))\n",
    "\n",
    "def generate_y(X):\n",
    "    x1, x2 = X[:, 0].reshape(-1, 1), X[:, 1].reshape(-1, 1)\n",
    "    return eggholder(x1, x2) + torch.normal(0, 0.3, size=(X.shape[0], 1))"
   ]
  },
  {
   "cell_type": "code",
   "execution_count": 126,
   "id": "5f56f9fd",
   "metadata": {},
   "outputs": [],
   "source": [
    "# Generate Data\n",
    "n_rows, x_range = 10000, (-512, 512)\n",
    "X = (x_range[0] - x_range[1]) * torch.rand(n_rows, 2) + x_range[1]\n",
    "y = generate_y(X)\n",
    "\n",
    "dataset = TensorDataset(X, y)"
   ]
  },
  {
   "cell_type": "code",
   "execution_count": 127,
   "id": "06997758",
   "metadata": {},
   "outputs": [],
   "source": [
    "# Generate train, test datasets\n",
    "train_ratio = 0.8\n",
    "train_size = int(train_ratio * len(dataset))\n",
    "test_size = len(dataset) - train_size\n",
    "train_set, test_set = random_split(dataset, lengths=[train_size, test_size])"
   ]
  },
  {
   "cell_type": "code",
   "execution_count": 128,
   "id": "fad7618e",
   "metadata": {},
   "outputs": [],
   "source": [
    "# Models\n",
    "class NN1(torch.nn.Module):\n",
    "\n",
    "    def __init__(self, n_units):\n",
    "        super().__init__()\n",
    "        self.model = nn.Sequential(\n",
    "            nn.Linear(2, n_units),\n",
    "            nn.ReLU(),\n",
    "            nn.Linear(n_units, 1)\n",
    "        )\n",
    "        \n",
    "    def forward(self, x):\n",
    "        return self.model(x)\n",
    "    \n",
    "\n",
    "class NN2(torch.nn.Module):\n",
    "\n",
    "    def __init__(self, n_units):\n",
    "        super().__init__()\n",
    "        self.model = nn.Sequential(\n",
    "            nn.Linear(2, n_units[0]),\n",
    "            nn.ReLU(),\n",
    "            nn.BatchNorm1d(n_units[0]),\n",
    "            nn.Linear(n_units[0], n_units[1]),\n",
    "            nn.ReLU(),\n",
    "            nn.BatchNorm1d(n_units[1]),\n",
    "            nn.Linear(n_units[1], 1)\n",
    "        )\n",
    "        \n",
    "    def forward(self, x):\n",
    "        return self.model(x)\n",
    "\n",
    "\n",
    "class NN3(nn.Module):\n",
    "    def __init__(self, n_units):\n",
    "        super().__init__()\n",
    "        self.model = nn.Sequential(\n",
    "            nn.Linear(2, n_units[0]),\n",
    "            nn.ReLU(),\n",
    "            nn.BatchNorm1d(n_units[0]),\n",
    "            nn.Linear(n_units[0], n_units[1]),\n",
    "            nn.ReLU(),\n",
    "            nn.BatchNorm1d(n_units[1]),\n",
    "            nn.Linear(n_units[1], n_units[2]),\n",
    "            nn.ReLU(),\n",
    "            nn.BatchNorm1d(n_units[2]),\n",
    "            nn.Linear(n_units[2], 1)\n",
    "        )\n",
    "\n",
    "    def forward(self, x):\n",
    "        return self.model(x)\n",
    "\n",
    "\n",
    "def count_parameters(model):\n",
    "    return sum(p.numel() for p in model.parameters() if p.requires_grad)\n",
    "\n",
    "\n",
    "def train(net, train_ds, test_ds, batch_size=1000, learning_rate=2*(10**-7), epochs=10, debug=False):\n",
    "    net = net.to(device)\n",
    "    \n",
    "    trainloader = DataLoader(train_ds, batch_size=batch_size)\n",
    "    testloader = DataLoader(test_ds, batch_size=batch_size)\n",
    "    train_mse, test_mse = 0.0, 0.0\n",
    "    l_train, l_test = len(train_ds), len(test_ds)\n",
    "    optimizer = torch.optim.SGD(net.parameters(), lr=learning_rate, momentum=0.9, nesterov=True)\n",
    "    criterion = nn.MSELoss()\n",
    "    \n",
    "    # Train the network\n",
    "    start = datetime.now()\n",
    "    with tqdm(range(epochs), unit=\"Epoch\") as tepoch:\n",
    "        for epoch in tepoch:\n",
    "            tepoch.set_description(f\"Epoch {epoch + 1}\")\n",
    "            running_loss = 0.0\n",
    "            for inputs, labels in trainloader:\n",
    "                inputs = inputs.to(device)\n",
    "                labels = labels.to(device)\n",
    "\n",
    "                # zero the parameter gradients\n",
    "                optimizer.zero_grad()\n",
    "\n",
    "                # forward + backward + optimize\n",
    "                outputs = net(inputs)\n",
    "                loss = criterion(outputs, labels)\n",
    "                loss.backward()\n",
    "                optimizer.step()\n",
    "\n",
    "                # print statistics\n",
    "                running_loss += loss.item()\n",
    "\n",
    "            tepoch.set_postfix(loss=running_loss)\n",
    "    \n",
    "    runtime = (datetime.now() - start).total_seconds() / 60  # runtime in minutes\n",
    "    train_mse = running_loss / l_train\n",
    "    \n",
    "    # Test the network\n",
    "    for inputs, labels in testloader:\n",
    "        inputs = inputs.to(device)\n",
    "        labels = labels.to(device)\n",
    "        \n",
    "        with torch.no_grad():\n",
    "            prediction = net(inputs)\n",
    "            loss = criterion(prediction, labels)\n",
    "            test_mse += loss.item()\n",
    "    \n",
    "    test_mse /= l_test\n",
    "    \n",
    "    return train_mse, test_mse, count_parameters(net), runtime\n",
    "            \n",
    "\n",
    "def get_metrics_vs_netconfig(net_class, configs, learning_rate, epochs=2000):\n",
    "    param_counts, losses, runtimes = [], [], []\n",
    "    \n",
    "    for config in configs:\n",
    "        \n",
    "        net = net_class(config)\n",
    "\n",
    "        _, test_mse, n_params, runtime = train(net, train_set, test_set, learning_rate=learning_rate, epochs=epochs)\n",
    "        losses.append(test_mse)\n",
    "        param_counts.append(n_params)\n",
    "        runtimes.append(runtime)\n",
    "    \n",
    "    return losses, param_counts, runtimes\n",
    "\n",
    "\n",
    "def metric_map_to_mean_lists(metrics):\n",
    "    metrics = [(k, sum(v) / len(v)) for k, v in metrics.items()]\n",
    "    metrics = sorted(metrics, key=lambda x: x[0])\n",
    "    x_val = [i for i, _ in metrics]\n",
    "    y_val = [i for _, i in metrics]\n",
    "    \n",
    "    return x_val, y_val\n",
    "    \n",
    "def get_mean_metrics(config, losses, param_counts, runtimes):\n",
    "    # Calculate mean loss for units\n",
    "    unit_loss = {}\n",
    "    for j, layers in enumerate(config[1]):\n",
    "        n_units = sum(layers)\n",
    "        val = unit_loss.get(n_units, [])\n",
    "        val.append(losses[j])\n",
    "        unit_loss[n_units] = val\n",
    "\n",
    "    units, units_mean_losses = metric_map_to_mean_lists(unit_loss)\n",
    "    \n",
    "    # Calculate mean loss for params\n",
    "    param_loss = {}\n",
    "    for k, n_param in enumerate(param_counts):\n",
    "        val = param_loss.get(n_param, [])\n",
    "        val.append(losses[k])\n",
    "        param_loss[n_param] = val\n",
    "\n",
    "    param_counts, params_mean_loss = metric_map_to_mean_lists(param_loss)\n",
    "    \n",
    "    # Calculate mean runtime for params\n",
    "    param_time = {}\n",
    "    for k, n_param in enumerate(param_counts):\n",
    "        val = param_time.get(n_param, [])\n",
    "        val.append(runtimes[k])\n",
    "        param_time[n_param] = val\n",
    "    \n",
    "    t_param_counts, param_mean_time = metric_map_to_mean_lists(param_time)\n",
    "    \n",
    "    return units, units_mean_losses, param_counts, params_mean_loss, t_param_counts, param_mean_time"
   ]
  },
  {
   "cell_type": "code",
   "execution_count": 129,
   "id": "9304012a",
   "metadata": {},
   "outputs": [
    {
     "name": "stderr",
     "output_type": "stream",
     "text": [
      "Epoch 2000: 100%|██████████| 2000/2000 [02:00<00:00, 16.57Epoch/s, loss=6.8e+5]\n",
      "Epoch 2000: 100%|██████████| 2000/2000 [01:59<00:00, 16.72Epoch/s, loss=6.71e+5]\n",
      "Epoch 2000: 100%|██████████| 2000/2000 [01:59<00:00, 16.71Epoch/s, loss=6.6e+5] \n",
      "Epoch 2000: 100%|██████████| 2000/2000 [02:00<00:00, 16.64Epoch/s, loss=6.57e+5]\n",
      "Epoch 2000: 100%|██████████| 2000/2000 [02:02<00:00, 16.35Epoch/s, loss=6.59e+5]\n",
      "Epoch 2000: 100%|██████████| 2000/2000 [02:12<00:00, 15.14Epoch/s, loss=6.66e+5]\n"
     ]
    },
    {
     "name": "stdout",
     "output_type": "stream",
     "text": [
      "[92.369375, 90.32130859375, 87.2844140625, 86.66289453125, 87.1791796875, 86.85296484375]\n"
     ]
    },
    {
     "name": "stderr",
     "output_type": "stream",
     "text": [
      "Epoch 2000: 100%|██████████| 2000/2000 [02:07<00:00, 15.65Epoch/s, loss=7.06e+5]\n",
      "Epoch 2000: 100%|██████████| 2000/2000 [02:07<00:00, 15.74Epoch/s, loss=6.8e+5] \n",
      "Epoch 2000: 100%|██████████| 2000/2000 [02:07<00:00, 15.71Epoch/s, loss=6.6e+5] \n",
      "Epoch 2000: 100%|██████████| 2000/2000 [02:11<00:00, 15.25Epoch/s, loss=6.45e+5]\n",
      "Epoch 2000: 100%|██████████| 2000/2000 [02:11<00:00, 15.26Epoch/s, loss=6.1e+5] \n",
      "Epoch 2000: 100%|██████████| 2000/2000 [02:11<00:00, 15.24Epoch/s, loss=5.86e+5]\n",
      "Epoch 2000: 100%|██████████| 2000/2000 [02:14<00:00, 14.91Epoch/s, loss=5.17e+5]\n",
      "Epoch 2000: 100%|██████████| 2000/2000 [02:28<00:00, 13.48Epoch/s, loss=4.7e+5] \n"
     ]
    },
    {
     "name": "stdout",
     "output_type": "stream",
     "text": [
      "[94.8095390625, 91.85023046875, 89.65849609375, 87.42673828125, 83.67895703125, 79.80301953125, 71.93389453125, 65.441369140625]\n"
     ]
    },
    {
     "name": "stderr",
     "output_type": "stream",
     "text": [
      "Epoch 2000: 100%|██████████| 2000/2000 [02:16<00:00, 14.61Epoch/s, loss=4.69e+5]\n",
      "Epoch 2000: 100%|██████████| 2000/2000 [02:16<00:00, 14.64Epoch/s, loss=5.62e+5]\n",
      "Epoch 2000: 100%|██████████| 2000/2000 [02:17<00:00, 14.59Epoch/s, loss=2.04e+5]\n",
      "Epoch 2000: 100%|██████████| 2000/2000 [02:19<00:00, 14.39Epoch/s, loss=2.06e+5]\n",
      "Epoch 2000: 100%|██████████| 2000/2000 [02:18<00:00, 14.42Epoch/s, loss=1.88e+5]\n",
      "Epoch 2000: 100%|██████████| 2000/2000 [02:18<00:00, 14.41Epoch/s, loss=1.43e+5]\n",
      "Epoch 2000: 100%|██████████| 2000/2000 [02:21<00:00, 14.13Epoch/s, loss=1.29e+5]\n",
      "Epoch 2000: 100%|██████████| 2000/2000 [02:30<00:00, 13.31Epoch/s, loss=1.02e+5]\n",
      "Epoch 2000: 100%|██████████| 2000/2000 [02:35<00:00, 12.83Epoch/s, loss=1.05e+5]\n",
      "Epoch 2000: 100%|██████████| 2000/2000 [02:31<00:00, 13.23Epoch/s, loss=1.02e+5]\n",
      "C:\\Users\\perfe\\AppData\\Local\\Temp\\ipykernel_53684\\1460923154.py:59: UserWarning: Matplotlib is currently using module://matplotlib_inline.backend_inline, which is a non-GUI backend, so cannot show the figure.\n",
      "  fig.show()\n"
     ]
    },
    {
     "name": "stdout",
     "output_type": "stream",
     "text": [
      "[63.862396484375, 76.08951953125, 27.9375625, 32.5625166015625, 27.13263671875, 23.0945361328125, 23.9089560546875, 16.49953076171875, 15.0873837890625, 14.59965576171875]\n"
     ]
    },
    {
     "data": {
      "image/png": "[encoded data removed]",
      "text/plain": [
       "<Figure size 1296x360 with 3 Axes>"
      ]
     },
     "metadata": {
      "needs_background": "light"
     },
     "output_type": "display_data"
    }
   ],
   "source": [
    "# Compute analysis metrics\n",
    "\n",
    "# Network and layer configs to run\n",
    "nn1_config = (NN1, [16, 32, 64, 128, 256, 512], 2*(10**-7))\n",
    "nn2_config = (NN2, [[8, 8], [16, 16], [16, 32], [32, 16], [32, 32], [64, 64], [128, 128], [256, 256]], 10**-7)\n",
    "nn3_config = (NN3, [[8, 8, 16], [8, 16, 16], [16, 32, 16], [16, 32, 32], [32, 32, 32], [32, 64, 32], [64, 64, 64], [128, 128, 128], [256, 128, 128], [128, 256, 128]], 10**-7)\n",
    "\n",
    "net_config = [nn1_config, nn2_config, nn3_config]\n",
    "\n",
    "fig, axes = plt.subplots(1, 3, figsize=(18, 5))\n",
    "\n",
    "for i, config in enumerate(net_config):\n",
    "    start = datetime.now()\n",
    "    losses, param_counts, runtimes = get_metrics_vs_netconfig(*config, epochs=2000)\n",
    "    wall_clk_time = (datetime.now() - start).seconds\n",
    "    units = config[1]\n",
    "    \n",
    "    # Average out metrics for configs with equal number of units\n",
    "    if i > 0:\n",
    "        (\n",
    "            units,\n",
    "            units_mean_losses,\n",
    "            param_counts,\n",
    "            params_mean_loss,\n",
    "            t_param_counts,\n",
    "            param_mean_time,\n",
    "        ) = get_mean_metrics(config, losses, param_counts, runtimes)\n",
    "\n",
    "    else:\n",
    "        units_mean_losses = losses\n",
    "        params_mean_loss = losses\n",
    "        param_mean_time = runtimes\n",
    "        t_param_counts = param_counts\n",
    "        \n",
    "        \n",
    "    print(losses)\n",
    "    \n",
    "    # Plot graphs\n",
    "    axes[0].plot(units, units_mean_losses, label=f\"{i+1} hidden layers\")\n",
    "    axes[0].set_xlabel(\"Num. units\")\n",
    "    axes[0].set_ylabel(\"RMSE Loss\")\n",
    "    axes[0].legend(loc=\"best\")\n",
    "    axes[0].set_title(\"Loss vs Num. of Units\")\n",
    "    \n",
    "    axes[1].plot(param_counts, params_mean_loss, label=f\"{i+1} hidden layers\")\n",
    "    axes[1].set_xlabel(\"Num. Trained Weights\")\n",
    "    axes[1].set_ylabel(\"RMSE Loss\")\n",
    "    axes[1].legend(loc=\"best\")\n",
    "    axes[1].set_xscale(\"log\")\n",
    "    axes[1].set_title(\"Loss vs Num. Trained Weights\")\n",
    "    \n",
    "    axes[2].plot(t_param_counts, param_mean_time, label=f\"{i+1} hidden layers\")\n",
    "    axes[2].set_xlabel(\"Num. Trained Weights\")\n",
    "    axes[2].set_ylabel(\"Training time\")\n",
    "    axes[2].legend(loc=\"best\")\n",
    "    axes[2].set_xscale(\"log\")\n",
    "    axes[2].set_title(\"Training Time vs Num. Trained Weights\")\n",
    "\n",
    "fig.show()"
   ]
  },
  {
   "cell_type": "markdown",
   "id": "71faf1e2",
   "metadata": {},
   "source": [
    "As shown above, the RMSE increases rapidly as we move from deeper to shallow networks for a given number of trained parameters. In fact, in almost all variations of hidden layer configurations, the deeper network outperforms the shallower one and converges significantly better.\n",
    "\n",
    "The training time, however, follows the reverse trend as above. The training time decreases as for a given number of trained weights as we move from deepter to shallower network.\n",
    "\n",
    "The overall conclusion is that while deeper network converge much better than shallower ones for the same number of units, they require a much greater training time than the alternative."
   ]
  }
 ],
 "metadata": {
  "kernelspec": {
   "display_name": "Python 3 (ipykernel)",
   "language": "python",
   "name": "python3"
  },
  "language_info": {
   "codemirror_mode": {
    "name": "ipython",
    "version": 3
   },
   "file_extension": ".py",
   "mimetype": "text/x-python",
   "name": "python",
   "nbconvert_exporter": "python",
   "pygments_lexer": "ipython3",
   "version": "3.8.0"
  }
 },
 "nbformat": 4,
 "nbformat_minor": 5
}
