{
 "cells": [
  {
   "cell_type": "markdown",
   "id": "03ea90c3",
   "metadata": {},
   "source": [
    "# Intro to Deep Learning Systems : HW 2\n",
    "## Perceptron"
   ]
  },
  {
   "cell_type": "code",
   "execution_count": 1,
   "id": "adcb4512",
   "metadata": {},
   "outputs": [],
   "source": [
    "# Imports\n",
    "import numpy as np\n",
    "from numpy.random import default_rng\n",
    "import pandas as pd"
   ]
  },
  {
   "cell_type": "code",
   "execution_count": 2,
   "id": "e49e9ae1",
   "metadata": {},
   "outputs": [
    {
     "name": "stdout",
     "output_type": "stream",
     "text": [
      "Training Data\n"
     ]
    },
    {
     "data": {
      "text/plain": [
       "array([[ 0.46575551,  0.76273115, -1.        ],\n",
       "       [ 0.49266239,  0.58957632, -1.        ],\n",
       "       [ 0.96087316,  0.78489192,  1.        ],\n",
       "       [ 0.69084846,  0.61561465,  1.        ],\n",
       "       [ 0.40694512,  0.80778854, -1.        ],\n",
       "       [ 0.48191244,  0.17615836,  1.        ],\n",
       "       [ 0.62536706,  0.78898506, -1.        ],\n",
       "       [ 0.94115967,  0.96570411, -1.        ],\n",
       "       [ 0.45598666,  0.09968686,  1.        ],\n",
       "       [ 0.70233214,  0.54637184,  1.        ]])"
      ]
     },
     "execution_count": 2,
     "metadata": {},
     "output_type": "execute_result"
    }
   ],
   "source": [
    "# Generate training data\n",
    "def generate_data(n):\n",
    "    x = default_rng().uniform(low=0.0, high=1.0, size=(n, 2))\n",
    "    func = lambda x: 1 if x else -1\n",
    "    y = np.vectorize(func)(x[:, 0] > x[:, 1])\n",
    "    \n",
    "    return x, y\n",
    "X_train, y_train = generate_data(10)\n",
    "print(\"Training Data\")\n",
    "np.concatenate((X_train, y_train.reshape(-1, 1)), axis=1)"
   ]
  },
  {
   "cell_type": "code",
   "execution_count": 3,
   "id": "b20538a5",
   "metadata": {},
   "outputs": [],
   "source": [
    "def train_perceptron(X_train, y_train, epoch_lim=1000, hinge_loss=False):\n",
    "    \"\"\"Train weights for given data via perceptron algorithm.\n",
    "\n",
    "    Args:\n",
    "        X_train: Feature matrix\n",
    "        y_train: Class labels\n",
    "        epoch_lim: Upper epoch limit to cut-off training\n",
    "        hinge_loss: Specify whether to use hinge loss\n",
    "\n",
    "    Returns:\n",
    "        Trained weights\n",
    "    \"\"\"\n",
    "    w = np.zeros(X_train.shape[1])\n",
    "    epoch, convergence = 0, False\n",
    "    threshold = 1 if hinge_loss else 0\n",
    "\n",
    "    while not convergence and epoch < epoch_lim:\n",
    "        convergence = True\n",
    "        for i in range(len(X_train)):\n",
    "            x = X_train[i]\n",
    "            y = y_train[i]\n",
    "\n",
    "            margin = y * np.dot(w, x)\n",
    "            if margin <= threshold:\n",
    "                convergence = False\n",
    "                w += y * x\n",
    "\n",
    "        epoch += 1\n",
    "    \n",
    "    if not convergence:\n",
    "        print(\"Convergence not achieved. Too many epochs.\")\n",
    "    return w\n",
    "\n",
    "def predict_perceptron(x, weights):\n",
    "    \"\"\"Predict values using perceptron weights\n",
    "\n",
    "    Args:\n",
    "        x: Input features\n",
    "        weights: Perceptron weights\n",
    "\n",
    "    Return:\n",
    "        Output vector\n",
    "    \"\"\"\n",
    "\n",
    "    return np.sign(np.dot(x, weights))"
   ]
  },
  {
   "cell_type": "code",
   "execution_count": 4,
   "id": "c232428b",
   "metadata": {},
   "outputs": [
    {
     "name": "stdout",
     "output_type": "stream",
     "text": [
      "Mean accuracy with perceptron loss: 0.9679\n",
      "Mean accuracy with hinge loss: 0.9844200000000001\n"
     ]
    }
   ],
   "source": [
    "# Training\n",
    "w_perceptron = train_perceptron(X_train, y_train)\n",
    "w_hinge = train_perceptron(X_train, y_train, hinge_loss=True)\n",
    "\n",
    "# Test\n",
    "perceptron_accuracy, hinge_accuracy = [], []\n",
    "for i in range(10):\n",
    "    X_test, y_test = generate_data(5000)\n",
    "    pred_perceptron = predict_perceptron(X_test, w_perceptron)\n",
    "    pred_hinge = predict_perceptron(X_test, w_hinge)\n",
    "    \n",
    "    perceptron_accuracy.append(sum(pred_perceptron == y_test) / pred_perceptron.shape[0])\n",
    "    hinge_accuracy.append(sum(pred_hinge == y_test) / pred_hinge.shape[0])\n",
    "\n",
    "print(f\"Mean accuracy with perceptron loss: {np.mean(perceptron_accuracy)}\")\n",
    "print(f\"Mean accuracy with hinge loss: {np.mean(hinge_accuracy)}\")"
   ]
  }
 ],
 "metadata": {
  "kernelspec": {
   "display_name": "Python 3 (ipykernel)",
   "language": "python",
   "name": "python3"
  },
  "language_info": {
   "codemirror_mode": {
    "name": "ipython",
    "version": 3
   },
   "file_extension": ".py",
   "mimetype": "text/x-python",
   "name": "python",
   "nbconvert_exporter": "python",
   "pygments_lexer": "ipython3",
   "version": "3.8.9"
  }
 },
 "nbformat": 4,
 "nbformat_minor": 5
}
